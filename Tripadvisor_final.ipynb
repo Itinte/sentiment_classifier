{
 "cells": [
  {
   "cell_type": "code",
   "execution_count": 1,
   "metadata": {
    "collapsed": true
   },
   "outputs": [],
   "source": [
    "import pandas as pd\n",
    "import matplotlib.pyplot as plt\n",
    "import numpy as np"
   ]
  },
  {
   "cell_type": "code",
   "execution_count": 2,
   "metadata": {
    "collapsed": true
   },
   "outputs": [],
   "source": [
    "#load the dataset\n",
    "df = pd.read_csv('tripadvisor_co_uk-travel_restaurant_reviews_sample.csv')"
   ]
  },
  {
   "cell_type": "code",
   "execution_count": 3,
   "metadata": {},
   "outputs": [
    {
     "data": {
      "text/plain": [
       "(19998, 17)"
      ]
     },
     "execution_count": 3,
     "metadata": {},
     "output_type": "execute_result"
    }
   ],
   "source": [
    "#check the shape of the df\n",
    "df.shape"
   ]
  },
  {
   "cell_type": "code",
   "execution_count": 4,
   "metadata": {
    "collapsed": true
   },
   "outputs": [],
   "source": [
    "#fill nan values for the ratings\n",
    "df['rating'] = df['rating'].fillna(0)"
   ]
  },
  {
   "cell_type": "code",
   "execution_count": 5,
   "metadata": {
    "collapsed": true
   },
   "outputs": [],
   "source": [
    "#get the non-ordinary values to 0\n",
    "df.loc[df['rating']=='April 2015', 'rating'] = 0\n",
    "df.loc[df['rating'] =='September 2015', 'rating'] = 0"
   ]
  },
  {
   "cell_type": "code",
   "execution_count": 6,
   "metadata": {},
   "outputs": [
    {
     "data": {
      "text/plain": [
       "{0.0, 1.0, 2.0, 3.0, 4.0, 5.0}"
      ]
     },
     "execution_count": 6,
     "metadata": {},
     "output_type": "execute_result"
    }
   ],
   "source": [
    "#get the rating of the columns 'ratings'\n",
    "df.loc[:,'rating'] = df.loc[:,'rating'].apply(lambda x : float(str(x)[0]))\n",
    "#check the range of possible values for the ratings\n",
    "rating_range = set(df['rating'])\n",
    "rating_range"
   ]
  },
  {
   "cell_type": "code",
   "execution_count": 7,
   "metadata": {
    "collapsed": true
   },
   "outputs": [],
   "source": [
    "#remove the 0-rating reviews\n",
    "df = df[df.rating != 0]"
   ]
  },
  {
   "cell_type": "code",
   "execution_count": 8,
   "metadata": {
    "collapsed": true
   },
   "outputs": [],
   "source": [
    "#Get the number of words for each review\n",
    "df['words'] = df['review_text'].apply(lambda x : len(str(x).split()))"
   ]
  },
  {
   "cell_type": "code",
   "execution_count": 9,
   "metadata": {},
   "outputs": [
    {
     "name": "stdout",
     "output_type": "stream",
     "text": [
      "74.92031924636923 78.23434840174012 104.33883129123468 127.18706293706293 141.78967867575463\n"
     ]
    }
   ],
   "source": [
    "#average number of words based on the rating\n",
    "avg_word_5 = df.loc[df['rating'] == 5, 'words'].mean()\n",
    "avg_word_4 = df.loc[df['rating'] == 4, 'words'].mean()\n",
    "avg_word_3 = df.loc[df['rating'] == 3, 'words'].mean()\n",
    "avg_word_2 = df.loc[df['rating'] == 2, 'words'].mean()\n",
    "avg_word_1 = df.loc[df['rating'] == 1, 'words'].mean()\n",
    "print(avg_word_5, avg_word_4, avg_word_3, avg_word_2, avg_word_1)"
   ]
  },
  {
   "cell_type": "code",
   "execution_count": 10,
   "metadata": {
    "collapsed": true
   },
   "outputs": [],
   "source": [
    "#define dummies columns about the global sentiment of the rating\n",
    "df['Neg'] = (df['rating'].astype(int)<4)\n",
    "df['Pos'] = df['rating'].astype(int)>3"
   ]
  },
  {
   "cell_type": "code",
   "execution_count": 11,
   "metadata": {
    "collapsed": true
   },
   "outputs": [],
   "source": [
    "#import stopwords file\n",
    "stopwords_file = open('stopwords.csv', 'r') \n",
    "stopwords = []\n",
    "for word in stopwords_file:\n",
    "    stopwords.append(word.strip('\\n'))"
   ]
  },
  {
   "cell_type": "code",
   "execution_count": 12,
   "metadata": {
    "collapsed": true
   },
   "outputs": [],
   "source": [
    "#define the clean_review function\n",
    "import re\n",
    "def clean_review(review):\n",
    "    rx = re.compile('\\W+')\n",
    "    review = str(review).lower().split()\n",
    "    review = [rx.sub(' ',i).strip() for i in review if i not in stopwords and rx.sub(' ',i).strip()!= '']\n",
    "    return review"
   ]
  },
  {
   "cell_type": "code",
   "execution_count": 13,
   "metadata": {
    "collapsed": true
   },
   "outputs": [],
   "source": [
    "#tokenize the review_text column and get a nice dataset\n",
    "df['review'] = df['review_text'].apply(lambda x : clean_review(x))\n",
    "df_final1 = df[['review', 'Pos', 'Neg']]"
   ]
  },
  {
   "cell_type": "code",
   "execution_count": 14,
   "metadata": {
    "collapsed": true
   },
   "outputs": [],
   "source": [
    "#split the dataset into train/test\n",
    "from sklearn.model_selection import train_test_split\n",
    "df_final, df_test = train_test_split(df_final1, test_size=0.2, random_state=0)\n",
    "df_final = df_final.reset_index(drop = False)\n",
    "df_test = df_test.reset_index(drop=False)"
   ]
  },
  {
   "cell_type": "code",
   "execution_count": 15,
   "metadata": {},
   "outputs": [],
   "source": [
    "#count words occurence in three big dictionnaries (total word occurence, number of positive/negative reviews containing the word)\n",
    "dic = {}\n",
    "pos_dic = {}\n",
    "neg_dic = {}\n",
    "\n",
    "#for each line\n",
    "for i in df_final.index:\n",
    "    \n",
    "    #initialize the tuple\n",
    "    set_line = set()\n",
    "    \n",
    "    #for each words of the line\n",
    "    for j in range(len(df_final['review'][i])):\n",
    "        \n",
    "        #add the word to the set of words\n",
    "        set_line.add(df_final['review'][i][j])\n",
    "    \n",
    "        #counter for all occurences\n",
    "        if df_final['review'][i][j] not in dic:\n",
    "            dic[str(df_final['review'][i][j])] = 1\n",
    "        else:\n",
    "            dic[str(df_final['review'][i][j])] += 1\n",
    "            \n",
    "    #print(set_line)\n",
    "        \n",
    "    for k in set_line:\n",
    "        #counter for POS occurences\n",
    "        if df_final.loc[i, 'Pos'] == True:\n",
    "            if k not in pos_dic:\n",
    "                pos_dic[k] = 1\n",
    "            else:\n",
    "                pos_dic[k] += 1\n",
    "\n",
    "        #counter for Neg occurences\n",
    "        elif df_final.loc[i, 'Neg'] == True:\n",
    "\n",
    "            if k not in neg_dic:\n",
    "                neg_dic[k] = 1\n",
    "            else:\n",
    "                neg_dic[k] += 1"
   ]
  },
  {
   "cell_type": "code",
   "execution_count": 16,
   "metadata": {
    "collapsed": true
   },
   "outputs": [],
   "source": [
    "#sort dictionnary by occurence order\n",
    "dic = sorted(dic.items(), key=lambda x: x[1], reverse=True)\n",
    "pos_dic = sorted(pos_dic.items(), key=lambda x: x[1], reverse=True)\n",
    "neg_dic = sorted(neg_dic.items(), key=lambda x: x[1], reverse=True)"
   ]
  },
  {
   "cell_type": "code",
   "execution_count": 17,
   "metadata": {
    "collapsed": true
   },
   "outputs": [],
   "source": [
    "#convert list_dic to dictionnary type\n",
    "pos_dic = dict(pos_dic)\n",
    "neg_dic = dict(neg_dic)\n",
    "dic = dict(dic)"
   ]
  },
  {
   "cell_type": "code",
   "execution_count": 18,
   "metadata": {
    "collapsed": true
   },
   "outputs": [],
   "source": [
    "#constants calculus on the dataset\n",
    "words_nb = sum(dic.values())\n",
    "reviews_nb = len(df_final)\n",
    "pos_reviews = len(df_final[df_final['Pos']==True])\n",
    "neg_reviews = len(df_final[df_final['Neg']==True])\n",
    "prob_rv_pos = pos_reviews/reviews_nb\n",
    "prob_rv_neg = neg_reviews/reviews_nb"
   ]
  },
  {
   "cell_type": "code",
   "execution_count": 19,
   "metadata": {},
   "outputs": [
    {
     "name": "stdout",
     "output_type": "stream",
     "text": [
      "0.7498185513136885 0.25018144868631154\n"
     ]
    }
   ],
   "source": [
    "#proportion of positive/negative reviews in the training set\n",
    "print(prob_rv_pos,prob_rv_neg)"
   ]
  },
  {
   "cell_type": "code",
   "execution_count": 20,
   "metadata": {},
   "outputs": [
    {
     "name": "stdout",
     "output_type": "stream",
     "text": [
      "sauce pos: 0.6268939393939394 neg: 0.3731060606060606\n"
     ]
    }
   ],
   "source": [
    "#word sentiment calculator in the training\n",
    "word = ''\n",
    "pos_proba = (pos_dic[word]/pos_reviews)*prob_rv_pos\n",
    "neg_proba = (neg_dic[word]/neg_reviews)*prob_rv_neg\n",
    "pos_proba_ = pos_proba/(pos_proba + neg_proba)\n",
    "neg_proba_ = neg_proba/(pos_proba + neg_proba)\n",
    "print(word, 'pos: '+ str(pos_proba_), 'neg: '+str(neg_proba_))"
   ]
  },
  {
   "cell_type": "code",
   "execution_count": 36,
   "metadata": {
    "collapsed": true
   },
   "outputs": [],
   "source": [
    "#create super dictionnaries (pos/neg) with the sentiment of each word\n",
    "super_pos_dic = {}\n",
    "super_neg_dic = {}\n",
    "for word,v in dic.items():\n",
    "    if (word in pos_dic.keys())&(word in neg_dic.keys()):\n",
    "        pos_proba = (pos_dic[word]/pos_reviews)*prob_rv_pos\n",
    "        neg_proba = (neg_dic[word]/neg_reviews)*prob_rv_neg\n",
    "        pos_proba_ = pos_proba/(pos_proba + neg_proba)\n",
    "        neg_proba_ = neg_proba/(pos_proba + neg_proba)\n",
    "        super_pos_dic[word] = pos_proba_\n",
    "        super_neg_dic[word] = neg_proba_"
   ]
  },
  {
   "cell_type": "code",
   "execution_count": 37,
   "metadata": {},
   "outputs": [],
   "source": [
    "#sort the super dictionnaries by most occuring words\n",
    "super_pos_dic = sorted(super_pos_dic.items(),key=lambda x: x[1], reverse=True)\n",
    "super_neg_dic = sorted(super_neg_dic.items(),key=lambda x: x[1], reverse=True)\n",
    "super_pos_dic = dict(super_pos_dic)\n",
    "super_neg_dic = dict(super_neg_dic)"
   ]
  },
  {
   "cell_type": "code",
   "execution_count": 38,
   "metadata": {
    "collapsed": true
   },
   "outputs": [],
   "source": [
    "#create hyper dictionnaries (pos/neg) with only the top sentiment signifying words\n",
    "hyper_pos_dic = dict()\n",
    "hyper_neg_dic = dict()\n",
    "Range = 1000\n",
    "for k in range(Range):\n",
    "    hyper_pos_dic[list(super_pos_dic)[k]] = list(super_pos_dic.values())[k]\n",
    "    hyper_neg_dic[list(super_neg_dic)[k]] = list(super_neg_dic.values())[k]"
   ]
  },
  {
   "cell_type": "code",
   "execution_count": 39,
   "metadata": {
    "collapsed": true
   },
   "outputs": [],
   "source": [
    "#sort the most unsignifiant words in the super dictionnary\n",
    "super_pos_dic = sorted(super_pos_dic.items(),key=lambda x: x[1], reverse=False)\n",
    "super_neg_dic = sorted(super_neg_dic.items(),key=lambda x: x[1], reverse=False)\n",
    "super_pos_dic = dict(super_pos_dic)\n",
    "super_neg_dic = dict(super_neg_dic)"
   ]
  },
  {
   "cell_type": "code",
   "execution_count": 40,
   "metadata": {
    "collapsed": true
   },
   "outputs": [],
   "source": [
    "#compute the final hyper-dictionnary with the most signifying words\n",
    "for k in range(Range):\n",
    "    hyper_pos_dic[list(super_pos_dic)[k]] = list(super_pos_dic.values())[k]\n",
    "    hyper_neg_dic[list(super_neg_dic)[k]] = list(super_neg_dic.values())[k]"
   ]
  },
  {
   "cell_type": "code",
   "execution_count": 23,
   "metadata": {
    "collapsed": true
   },
   "outputs": [],
   "source": [
    "#probability that a word occurs knowing that the review is positive\n",
    "def proba_x_knowing_pos(word):\n",
    "    prob = pos_dic[word]/pos_reviews\n",
    "    return prob"
   ]
  },
  {
   "cell_type": "code",
   "execution_count": 24,
   "metadata": {
    "collapsed": true
   },
   "outputs": [],
   "source": [
    "#probability that the word occurs knowing that the review is negative\n",
    "def proba_x_knowing_neg(word):\n",
    "    prob = neg_dic[word]/neg_reviews\n",
    "    return prob"
   ]
  },
  {
   "cell_type": "code",
   "execution_count": 43,
   "metadata": {},
   "outputs": [],
   "source": [
    "#predict on the training set, calculing the probability only if the word is in the super_dictionnary\n",
    "for k in range(len(df_test)):\n",
    "    proba_sentence_pos = 1\n",
    "    proba_sentence_neg = 1\n",
    "\n",
    "    for i in range(len(df_test['review'][k])):\n",
    "        word = df_test['review'][k][i]\n",
    "        \n",
    "        if (word in hyper_pos_dic.keys()):\n",
    "            proba_sentence_pos *= proba_x_knowing_pos(word)\n",
    "            proba_sentence_neg *= proba_x_knowing_neg(word)\n",
    "\n",
    "    proba_sentence_pos = prob_rv_pos*proba_sentence_pos\n",
    "    proba_sentence_neg = prob_rv_neg*proba_sentence_neg\n",
    "\n",
    "    proba_sentence_pos_ = proba_sentence_pos/(proba_sentence_pos+proba_sentence_neg)\n",
    "    proba_sentence_neg_ = proba_sentence_neg/(proba_sentence_pos+proba_sentence_neg)\n",
    "    \n",
    "    \n",
    "    df_test.loc[k, 'predict'] = df_test.loc[k, 'Pos'] == (proba_sentence_pos_ > proba_sentence_neg_)\n",
    "    df_test.loc[k, 'pos_prob'] = proba_sentence_pos_ \n",
    "    df_test.loc[k, 'neg_prob'] = proba_sentence_neg_ \n",
    "\n",
    "    #print(k, df_final.loc[k, 'index'],len(df_final['review'][k]),df_final.loc[k, 'Pos'], proba_sentence_pos_, proba_sentence_neg_)"
   ]
  },
  {
   "cell_type": "code",
   "execution_count": 42,
   "metadata": {},
   "outputs": [
    {
     "data": {
      "text/plain": [
       "0.9013062409288825"
      ]
     },
     "execution_count": 42,
     "metadata": {},
     "output_type": "execute_result"
    }
   ],
   "source": [
    "#get the testing prediction accuracy\n",
    "1- (len(df_test[df_test['predict'] == False])/len(df_test))"
   ]
  }
 ],
 "metadata": {
  "kernelspec": {
   "display_name": "Python 3",
   "language": "python",
   "name": "python3"
  },
  "language_info": {
   "codemirror_mode": {
    "name": "ipython",
    "version": 3
   },
   "file_extension": ".py",
   "mimetype": "text/x-python",
   "name": "python",
   "nbconvert_exporter": "python",
   "pygments_lexer": "ipython3",
   "version": "3.6.2"
  }
 },
 "nbformat": 4,
 "nbformat_minor": 2
}
